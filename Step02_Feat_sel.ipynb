{
 "cells": [
  {
   "cell_type": "markdown",
   "id": "0e81ba34",
   "metadata": {},
   "source": [
    "# Step 03: Feature selection using IV"
   ]
  },
  {
   "cell_type": "code",
   "execution_count": null,
   "id": "a53a162b",
   "metadata": {},
   "outputs": [],
   "source": [
    "# helper functions\n",
    "\n",
    "s = 'seg4'\n",
    "\n",
    "trn_sdf = spark.read.parquet(path + s + 'in_smpl_trainset.parquet')\n",
    "\n",
    "print(\"number of obs:\", trn_sdf.count())\n",
    "print(\"number of cols:\", len(trn_sdf.columns))\n",
    "\n",
    "stats = trn_sdf.groupBy(['week_n']) \\ \n",
    "            .agg(F.sum(F.col('target')).alias('tot pos'),\n",
    "                F.count('*').alias('tot rows'),\n",
    "                (F.sum(F.col('target'))/F.count('*')).alias('target rate')).orderBy('week_n').toPandas()\n",
    "print(stats)"
   ]
  },
  {
   "cell_type": "markdown",
   "id": "bfdda9fb",
   "metadata": {},
   "source": [
    "## map procedures"
   ]
  },
  {
   "cell_type": "code",
   "execution_count": null,
   "id": "3185f918",
   "metadata": {},
   "outputs": [],
   "source": [
    "cols_order = []\n",
    "\n",
    "# --------------------------------\n",
    "# procedures\n",
    "# --------------------------------\n",
    "proc_df = pd.read_csv(filepath + 'proc_map.csv')\n",
    "lst = proc_df['proc'].values.tolist()\n",
    "dict_proc = dict(zip(lst,lst))\n",
    "\n",
    "#-------------------------\n",
    "# map of training set\n",
    "# ------------------------\n",
    "mapping_expr = create_map([lit(x) for x in chain(*dict_proc.items())])\n",
    "trn_sdf = trn_sdf.withColumn('proc_desc_n', mapping_expr[trn_sdf['proc_desc']])\n",
    "trn_sdf = trn_sdf.na.fill('OTHER',['proc_desc_n'])\n",
    "trn_sdf = trn_sdf.drop('proc_desc')\n",
    "\n",
    "#reorder cols\n",
    "trn2 = trn_sdf.select(*cols_order)\n",
    "\n",
    "# stats\n",
    "print(\"number of obs:\", trn_sdf.count())\n",
    "print(\"number of cols:\", len(trn_sdf.columns))"
   ]
  },
  {
   "cell_type": "markdown",
   "id": "9254e39d",
   "metadata": {},
   "source": [
    "## Take a sample in order to run IV"
   ]
  },
  {
   "cell_type": "code",
   "execution_count": null,
   "id": "04253c52",
   "metadata": {},
   "outputs": [],
   "source": [
    "sdf_smpl = trn2.sampleBy('target',\n",
    "                        fractions={1:1.0,  #100% minority\n",
    "                                  0:0.05}, #5% majority\n",
    "                                  seed=542)\n",
    "\n",
    "sdf_smpl.groupBy('target').count().show()"
   ]
  },
  {
   "cell_type": "code",
   "execution_count": null,
   "id": "0bc2b4db",
   "metadata": {},
   "outputs": [],
   "source": [
    "df_smpl = sdf_smpl.toPandas()\n",
    "df_smpl.head()"
   ]
  },
  {
   "cell_type": "markdown",
   "id": "95c75335",
   "metadata": {},
   "source": [
    "## Categorize data types"
   ]
  },
  {
   "cell_type": "code",
   "execution_count": null,
   "id": "2cfd1116",
   "metadata": {},
   "outputs": [],
   "source": [
    "# ---------------------------\n",
    "# numeric\n",
    "# ---------------------------\n",
    "num_vars = list(df.select_dtypes(include = ['int32', 'int64', 'float32', 'float64']).columns)\n",
    "num_vars.remove('call_ind')\n",
    "print('There are', len(num_vars), 'numeric features in the list')\n",
    "print(num_vars)\n",
    "print()\n",
    "\n",
    "# -------------------\n",
    "# categorical\n",
    "# -------------------\n",
    "cat_vars = list(df.select_dtypes(include = ['object']).columns)\n",
    "\n",
    "# -----------------\n",
    "# full list\n",
    "# ------------------\n",
    "full_lst = list(df.columns)\n",
    "print(\"there are\", len(full_lst), \"total feat in the list\")\n",
    "\n",
    "# ---------------------\n",
    "# prepare all cols\n",
    "# ----------------------\n",
    "final_vars = num_vars + cat_vars\n",
    "print(\"there are\", len(final_vars))"
   ]
  },
  {
   "cell_type": "markdown",
   "id": "8bf6057e",
   "metadata": {},
   "source": [
    "## run info value"
   ]
  },
  {
   "cell_type": "code",
   "execution_count": null,
   "id": "248c0a22",
   "metadata": {},
   "outputs": [],
   "source": [
    "#convert pandas into dataframe\n",
    "sdf = spark.createDataFrame(df_smpl)\n",
    "\n",
    "#run WOE transformation\n",
    "fit_woe_on_training(path = filepath,\n",
    "                   df = sdf,\n",
    "                   target = 'target',\n",
    "                   label = 'train')"
   ]
  },
  {
   "cell_type": "markdown",
   "id": "0118bc0c",
   "metadata": {},
   "source": [
    "## download IV"
   ]
  },
  {
   "cell_type": "code",
   "execution_count": null,
   "id": "5d0cb1eb",
   "metadata": {},
   "outputs": [],
   "source": [
    "filename = (filepath + 'train_woe_tbl_FIT')\n",
    "woe_lst = pickle.load(open(filename,'rb'))\n",
    "\n",
    "if os.path.isfile(filepath + 'train_woe_FIT.csv'):\n",
    "    os.remove(filepath + 'train_woe_FIT.csv')\n",
    "    \n",
    "for df in woe_lst:\n",
    "    tables_b = pd.DataFrame.from_dict(df, orient = 'columns')\n",
    "    with open(filepath + 'train_woe_FIT.csv', 'a') as f:\n",
    "        tables_b.to_csv(f)\n",
    "        f.write(\"\\n\")\n",
    "print(\"CSV file complete\")"
   ]
  },
  {
   "cell_type": "markdown",
   "id": "96f75294",
   "metadata": {},
   "source": [
    "## get selected variables from IV"
   ]
  },
  {
   "cell_type": "code",
   "execution_count": null,
   "id": "b87f00fa",
   "metadata": {},
   "outputs": [],
   "source": [
    "filename = (filepath + 'train_iv_tbl_FIT')\n",
    "iv_lst = pickle.load(open(filename,'rb'))\n",
    "hold_df = pd.DataFrame()\n",
    "\n",
    "for i in range(len(iv_lst)):\n",
    "    tables_b = pd.DataFrame.from_dict(iv_lst[i], orient = 'columns')\n",
    "    hold_df = pd.concat([tables_b, hold_df], axis=0)\n",
    "    \n",
    "hold_df.sort_values(by = ['IV'], ascending = False, inplace=True)\n",
    "hold_df.to_csv(filepath + 'IV.csv')\n",
    "\n",
    "#filter on predicted IV only\n",
    "hold_df = hold_df[hold_df['predictive_ind']==1]\n",
    "cols_keep = hold_df['varname'].values.tolist()\n",
    "cols_keep.insert(0,'target')\n",
    "print('there are', ;len(hold_df), 'predictive variables based on IV>= 0.02')\n",
    "print(cols_keep)"
   ]
  },
  {
   "cell_type": "markdown",
   "id": "f9afe849",
   "metadata": {},
   "source": [
    "## variance inflation factor"
   ]
  },
  {
   "cell_type": "code",
   "execution_count": null,
   "id": "7355a054",
   "metadata": {},
   "outputs": [],
   "source": [
    "df_to_check_vif = df_smpl[num_vars]\n",
    "cols = df_to_check_vif.columns.tolist()\n",
    "print('there are',len(cols),'numeric cols to process')\n",
    "\n",
    "#run VIF\n",
    "df_vif = calculate_vif(path = filepath,\n",
    "                      name = 'eda',\n",
    "                      df = df_to_check_vif,\n",
    "                      drop_cols = False,\n",
    "                      thresh = 5)"
   ]
  },
  {
   "cell_type": "code",
   "execution_count": null,
   "id": "82b87440",
   "metadata": {},
   "outputs": [],
   "source": [
    "#read csv file\n",
    "vif_file = pd.read_csv(filepath + 'eda_VIF.csv')\n",
    "vif_file.head(30)"
   ]
  },
  {
   "cell_type": "markdown",
   "id": "79bee9d5",
   "metadata": {},
   "source": [
    "## apply selected attributes and save datasets"
   ]
  },
  {
   "cell_type": "code",
   "execution_count": null,
   "id": "8ccabb51",
   "metadata": {},
   "outputs": [],
   "source": [
    "# add PK to list\n",
    "pk_lst = ['week_n',\n",
    "         'prov_tin']\n",
    "\n",
    "cols_keep.extend(pk_lst)\n",
    "print(cols_keep)\n",
    "print(len(cols_keep))"
   ]
  },
  {
   "cell_type": "code",
   "execution_count": null,
   "id": "fe9d1121",
   "metadata": {},
   "outputs": [],
   "source": [
    "# variables with high VIF\n",
    "VIF_drop = ['pct_paid','clm_allow']\n",
    "\n",
    "#training\n",
    "trn_n = trn.sdf.select(*cols_order)\n",
    "trn_n = trn_n.select(*cols_keep)\n",
    "trn_n = trn_n.drop(*VIF_drop)\n",
    "\n",
    "#write parquet\n",
    "trn_n.write.partitionBy('week_n').mode('overwrite').parquet(path + 'train_feat_sel.parquet')"
   ]
  },
  {
   "cell_type": "code",
   "execution_count": null,
   "id": "53788054",
   "metadata": {},
   "outputs": [],
   "source": [
    "# stats\n",
    "print(\"number of obs:\", trn_n.count())\n",
    "print(\"number of cols:\", len(trn_n.columns))"
   ]
  }
 ],
 "metadata": {
  "kernelspec": {
   "display_name": "Python 3 (ipykernel)",
   "language": "python",
   "name": "python3"
  },
  "language_info": {
   "codemirror_mode": {
    "name": "ipython",
    "version": 3
   },
   "file_extension": ".py",
   "mimetype": "text/x-python",
   "name": "python",
   "nbconvert_exporter": "python",
   "pygments_lexer": "ipython3",
   "version": "3.9.13"
  }
 },
 "nbformat": 4,
 "nbformat_minor": 5
}
